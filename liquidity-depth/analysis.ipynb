{
 "cells": [
  {
   "cell_type": "code",
   "execution_count": 4,
   "metadata": {},
   "outputs": [],
   "source": [
    "%matplotlib inline"
   ]
  },
  {
   "cell_type": "code",
   "execution_count": 41,
   "metadata": {},
   "outputs": [],
   "source": [
    "import matplotlib.pyplot as plt\n",
    "from typing import List\n",
    "import numpy as np"
   ]
  },
  {
   "cell_type": "markdown",
   "metadata": {},
   "source": [
    "### Uniswap V2 constant product liquidity pool\n",
    "\n",
    "\n",
    "All transactions are performed such that $x \\cdot y = k$ invariant stays true after each trade.\n",
    "\n",
    "Let $x$ be the RKL token.\n",
    "\n",
    "We are interested in what happens to $\\frac{y}{x} = \\frac{k}{x^2}$ (i.e. price of RKL token in terms of $y$) after agents sell into the pool.\n",
    "\n",
    "What happens when someone sells $\\lambda \\in [0, 1]$ tokens into this pool. $\\lambda \\cdot 100$ denotes percentage points of the RKL token in the pool, sold. So, if there are $1000$ RKL tokens in the pool, and $\\lambda$ is $0.5$, it means $500$ RKL tokens are sold into the pool, making the new total of RKL tokens in the pool increase to $1500$.\n",
    "\n",
    "What happens to the price of the RKL token as we vary the number of RKL tokens sold into the pool?\n",
    "\n",
    "Initially, the price is $\\frac{k}{x^2}$. Number of RKL tokens after the sale grows to $x \\cdot (1 + \\lambda)$, the amount of the counter party token changes to $\\frac{k}{x \\cdot (1 + \\lambda)}$ such that we keep the invariant constant. We now have a lower RKL token price, namely $\\frac{k}{x^2 \\cdot (1 + \\lambda)^2} < \\frac{k}{x^2}$. The new price is $\\displaystyle{1 - \\frac{1}{(1 + \\lambda)^2}}$ lower than the original.\n"
   ]
  },
  {
   "cell_type": "code",
   "execution_count": 1,
   "metadata": {},
   "outputs": [],
   "source": [
    "def price_pct_change(pct_to_sell: float) -> float:\n",
    "  # `pct_to_sell` in `[0, 1]`. If there are 1000 RKL tokens in the pool,\n",
    "  # then `pct_to_sell` of `0.1` means someone holds 100 RKL tokens\n",
    "  # outside of the pool that they wish to sell into the pool.\n",
    "  return (1 - 1 / ((1 + pct_to_sell) ** 2))"
   ]
  },
  {
   "cell_type": "code",
   "execution_count": 33,
   "metadata": {},
   "outputs": [],
   "source": [
    "def to_pct_points(arr: List) -> List:\n",
    "  return [x * 100 for x in arr]"
   ]
  },
  {
   "cell_type": "code",
   "execution_count": 38,
   "metadata": {},
   "outputs": [],
   "source": [
    "pct_to_sale = np.arange(0.0, 1.01, 0.01)\n",
    "price_change = to_pct_points([price_pct_change(x) for x in pct_to_sale])"
   ]
  },
  {
   "cell_type": "code",
   "execution_count": 53,
   "metadata": {},
   "outputs": [
    {
     "data": {
      "text/plain": [
       "<matplotlib.legend.Legend at 0x7f85d03910a0>"
      ]
     },
     "execution_count": 53,
     "metadata": {},
     "output_type": "execute_result"
    },
    {
     "data": {
      "image/png": "[encoded data removed]",
      "text/plain": [
       "<Figure size 432x288 with 1 Axes>"
      ]
     },
     "metadata": {
      "needs_background": "light"
     },
     "output_type": "display_data"
    }
   ],
   "source": [
    "plt.plot(\n",
    "  to_pct_points(pct_to_sale),\n",
    "  price_change,\n",
    "  'r.',\n",
    "  label='Token Price Percentage Decrease',\n",
    "  linewidth=2\n",
    ")\n",
    "plt.xlabel('Tokens Sold Into Pool, % of pool', fontsize=12)\n",
    "plt.ylabel('Token Price Decrease, %', fontsize=12)\n",
    "plt.legend()"
   ]
  },
  {
   "cell_type": "code",
   "execution_count": null,
   "metadata": {},
   "outputs": [],
   "source": []
  }
 ],
 "metadata": {
  "interpreter": {
   "hash": "178186a65a6744082bc6c3a707fd7c2b1fedf3053a6ce6d66abf5e05e62ac751"
  },
  "kernelspec": {
   "display_name": "Python 3.9.10 ('tokenomics-discussion-uW6uDgXr-py3.9')",
   "language": "python",
   "name": "python3"
  },
  "language_info": {
   "codemirror_mode": {
    "name": "ipython",
    "version": 3
   },
   "file_extension": ".py",
   "mimetype": "text/x-python",
   "name": "python",
   "nbconvert_exporter": "python",
   "pygments_lexer": "ipython3",
   "version": "3.9.10"
  },
  "orig_nbformat": 4
 },
 "nbformat": 4,
 "nbformat_minor": 2
}
