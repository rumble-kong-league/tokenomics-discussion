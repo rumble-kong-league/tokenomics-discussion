{
 "cells": [
  {
   "cell_type": "code",
   "execution_count": 4,
   "metadata": {},
   "outputs": [],
   "source": [
    "%matplotlib inline"
   ]
  },
  {
   "cell_type": "markdown",
   "metadata": {},
   "source": [
    "### Uniswap V2 constant product liquidity pool\n",
    "\n",
    "\n",
    "All transactions are performed such that $x \\cdot y = k$ invariant stays true after each trade.\n",
    "\n",
    "Let $x$ be the RKL token.\n",
    "\n",
    "We are interested in what happens to $\\frac{y}{x}$ (i.e. price of RKL token in terms of $y$) after agents sell into the pool, as a function of the depth of the pool.\n",
    "\n",
    "On practical basis, the depth of the pool is the sum of the monetary value of both of the tokens in the pool. Empirically, we can use the quantity of the token as such a measure. We are mainly concerned with the ratio of number of RKL tokens in the pool to the number of tokens sold into the pool.\n",
    "\n",
    "Let's construct a function that determines the price impact as a function of two things:\n",
    "\n",
    "(i) percent of RKL token to sell\n",
    "\n",
    "(ii) `k` - measure of the depth of the liquidity pool\n"
   ]
  },
  {
   "cell_type": "code",
   "execution_count": 2,
   "metadata": {},
   "outputs": [],
   "source": [
    "def new_rkl_price(pct_to_sell: float, k: int) -> int:\n",
    "  # `pct_to_sell` in `[0, 1]`. If there are 1000 RKL tokens in the pool,\n",
    "  # then `pct_to_sell` of `0.1` means someone holds 100 RKL tokens\n",
    "  # outside of the pool that they wish to sell into the pool.\n",
    "\n",
    "  # to obtain how many y tokens trader gets for his x * pct_to_sell\n",
    "  # we note that the supply of RKL tokens after the trade increases\n",
    "  # to: x * (1 + pct_to_sell). To have the invariant stay true,\n",
    "  # we send y tokens in return. y_{after trade} = k / x * (1 + pct_to_sell)\n",
    "  # So the answer is y - k / (x * (1 + pct_to_sell)).\n",
    "\n",
    "  # Note, however, that we do not have the absolute values of y and x,\n",
    "  # these quantities are irrelevant for our purposes. We are interested\n",
    "  # in the y / x **change** after this trade.\n",
    "  # So what has happened just now with x and y?\n",
    "  # x -----> x * (1 + pct_to_sell)\n",
    "  # y -----> y - k / (x * (1 + pct_to_sell))\n",
    "  # Therefore, the answer is ((y - k / (x * (1 + pct_to_sell))) / (x * (1 + pct_to_sell))) / (y / x)\n",
    "\n",
    "  return 0"
   ]
  }
 ],
 "metadata": {
  "interpreter": {
   "hash": "178186a65a6744082bc6c3a707fd7c2b1fedf3053a6ce6d66abf5e05e62ac751"
  },
  "kernelspec": {
   "display_name": "Python 3.9.10 ('tokenomics-discussion-uW6uDgXr-py3.9')",
   "language": "python",
   "name": "python3"
  },
  "language_info": {
   "codemirror_mode": {
    "name": "ipython",
    "version": 3
   },
   "file_extension": ".py",
   "mimetype": "text/x-python",
   "name": "python",
   "nbconvert_exporter": "python",
   "pygments_lexer": "ipython3",
   "version": "3.9.10"
  },
  "orig_nbformat": 4
 },
 "nbformat": 4,
 "nbformat_minor": 2
}
